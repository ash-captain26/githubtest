{
 "cells": [
  {
   "cell_type": "code",
   "execution_count": 1,
   "id": "4fdaa1ea",
   "metadata": {},
   "outputs": [],
   "source": [
    "import pandas as pd"
   ]
  },
  {
   "cell_type": "code",
   "execution_count": 20,
   "id": "c4ef1746",
   "metadata": {},
   "outputs": [
    {
     "name": "stdout",
     "output_type": "stream",
     "text": [
      "Enter the name :Padma\n",
      "Enter the house :Gryfndor\n",
      "Padma from Ravenclaw\n"
     ]
    }
   ],
   "source": [
    "def main():\n",
    "    student= get_student()\n",
    "    if student[0]==\"Padma\":\n",
    "        student[1]= \"Ravenclaw\"\n",
    "    print(f\"{student[0]} from {student[1]}\")\n",
    "    \n",
    "    \n",
    "def get_student():\n",
    "    name= input(\"Enter the name :\")\n",
    "    house=  input(\"Enter the house :\")\n",
    "    #here we have return the value with the help of tuple\n",
    "    #here in tuple we have two value\n",
    "    return [name, house]\n",
    "\n",
    "\n",
    "if __name__ == \"__main__\":\n",
    "    main()"
   ]
  },
  {
   "cell_type": "code",
   "execution_count": 24,
   "id": "8c5d99ee",
   "metadata": {},
   "outputs": [
    {
     "name": "stdout",
     "output_type": "stream",
     "text": [
      "Enter the name :Padma\n",
      "Enter the house :Gryfndor\n",
      "Padma from Ravenclaw\n"
     ]
    }
   ],
   "source": [
    "#solving the above prblem with dictionaries\n",
    "def main():\n",
    "    student= get_student()\n",
    "    if student['name']==\"Padma\":\n",
    "        student['house']= \"Ravenclaw\"\n",
    "    print(f\"{student['name']} from {student['house']}\")\n",
    "    \n",
    "    \n",
    "def get_student():\n",
    "    student ={}\n",
    "    student['name']=input(\"Enter the name :\")\n",
    "    student['house']=input(\"Enter the house :\")\n",
    "    return student\n",
    "\n",
    "if __name__ == \"__main__\":\n",
    "    main()"
   ]
  },
  {
   "cell_type": "markdown",
   "id": "53378682",
   "metadata": {},
   "source": [
    "# Classes\n",
    "1. Classes allow you to invent you own datatype in python and give them a name."
   ]
  },
  {
   "cell_type": "code",
   "execution_count": null,
   "id": "0802b2cd",
   "metadata": {},
   "outputs": [],
   "source": []
  }
 ],
 "metadata": {
  "kernelspec": {
   "display_name": "Python 3 (ipykernel)",
   "language": "python",
   "name": "python3"
  },
  "language_info": {
   "codemirror_mode": {
    "name": "ipython",
    "version": 3
   },
   "file_extension": ".py",
   "mimetype": "text/x-python",
   "name": "python",
   "nbconvert_exporter": "python",
   "pygments_lexer": "ipython3",
   "version": "3.9.12"
  }
 },
 "nbformat": 4,
 "nbformat_minor": 5
}
